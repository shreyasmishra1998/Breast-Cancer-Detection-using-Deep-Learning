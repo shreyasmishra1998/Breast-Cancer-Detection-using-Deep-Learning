{
  "nbformat": 4,
  "nbformat_minor": 0,
  "metadata": {
    "kernelspec": {
      "display_name": "Python 3",
      "language": "python",
      "name": "python3"
    },
    "language_info": {
      "name": "python",
      "version": "3.6.4",
      "mimetype": "text/x-python",
      "codemirror_mode": {
        "name": "ipython",
        "version": 3
      },
      "pygments_lexer": "ipython3",
      "nbconvert_exporter": "python",
      "file_extension": ".py"
    },
    "colab": {
      "name": "NEW CANCER CLASSIFICATION.ipynb",
      "provenance": [],
      "collapsed_sections": [],
      "machine_shape": "hm"
    },
    "accelerator": "GPU"
  },
  "cells": [
    {
      "cell_type": "code",
      "metadata": {
        "_uuid": "8f2839f25d086af736a60e9eeb907d3b93b6e0e5",
        "_cell_guid": "b1076dfc-b9ad-4769-8c92-a6c4dae69d19",
        "trusted": true,
        "id": "dgFVvUTdgbDH",
        "colab_type": "code",
        "colab": {}
      },
      "source": [
        "# Colab library to upload files to notebook\n",
        "from google.colab import files\n",
        "\n",
        "# Install Kaggle library\n",
        "!pip install -q kaggle\n",
        "\n",
        "# Upload kaggle API key file\n",
        "uploaded = files.upload()\n",
        "!pip install -q kaggle\n",
        "!mkdir -p ~/.kaggle\n",
        "!cp kaggle.json ~/.kaggle/\n",
        "!ls ~/.kaggle\n",
        "!chmod 600 /root/.kaggle/kaggle.json\n",
        "!pip uninstall -y kaggle\n",
        "!pip install --upgrade pip\n",
        "!pip install kaggle==1.5.6\n",
        "!kaggle -v\n",
        "!kaggle datasets download -d paultimothymooney/breast-histopathology-images\n"
      ],
      "execution_count": 0,
      "outputs": []
    },
    {
      "cell_type": "code",
      "metadata": {
        "id": "6tWslWXlkchC",
        "colab_type": "code",
        "colab": {}
      },
      "source": [
        "!unzip \\*.zip "
      ],
      "execution_count": 0,
      "outputs": []
    },
    {
      "cell_type": "code",
      "metadata": {
        "_cell_guid": "79c7e3d0-c299-4dcb-8224-4455121ee9b0",
        "_uuid": "d629ff2d2480ee46fbb7e2d37f6b5fab8052498a",
        "trusted": true,
        "id": "i2W1FNdWgbDY",
        "colab_type": "code",
        "outputId": "b7e3a6c5-943e-4918-9ef0-119cd03d6df9",
        "colab": {
          "base_uri": "https://localhost:8080/",
          "height": 71
        }
      },
      "source": [
        "import os\n",
        "import numpy as np \n",
        "import pandas as pd\n",
        "import matplotlib.pyplot as plt\n",
        "import seaborn as sns\n",
        "import cv2\n",
        "import fnmatch\n",
        "from glob import glob\n",
        "%matplotlib inline "
      ],
      "execution_count": 3,
      "outputs": [
        {
          "output_type": "stream",
          "text": [
            "/usr/local/lib/python3.6/dist-packages/statsmodels/tools/_testing.py:19: FutureWarning: pandas.util.testing is deprecated. Use the functions in the public API at pandas.testing instead.\n",
            "  import pandas.util.testing as tm\n"
          ],
          "name": "stderr"
        }
      ]
    },
    {
      "cell_type": "code",
      "metadata": {
        "trusted": true,
        "id": "m_Ni8OWmgbDi",
        "colab_type": "code",
        "outputId": "de01b99d-1071-4207-943c-69cbe6620ea1",
        "colab": {
          "base_uri": "https://localhost:8080/",
          "height": 34
        }
      },
      "source": [
        "import keras\n",
        "import tensorflow\n",
        "from keras import backend as K\n",
        "from keras.utils.np_utils import to_categorical\n",
        "from keras.preprocessing.image import ImageDataGenerator\n",
        "from keras.models import Sequential\n",
        "from keras.layers import Dense,Dropout,Activation,Flatten,BatchNormalization,Conv2D,MaxPool2D,MaxPooling2D\n",
        "from keras.callbacks import Callback, EarlyStopping, ReduceLROnPlateau, ModelCheckpoint\n",
        "\n",
        "from sklearn.model_selection import train_test_split\n",
        "from sklearn.metrics import confusion_matrix,accuracy_score"
      ],
      "execution_count": 4,
      "outputs": [
        {
          "output_type": "stream",
          "text": [
            "Using TensorFlow backend.\n"
          ],
          "name": "stderr"
        }
      ]
    },
    {
      "cell_type": "code",
      "metadata": {
        "trusted": true,
        "id": "oQypQnsXgbEA",
        "colab_type": "code",
        "colab": {}
      },
      "source": [
        "from glob import glob\n",
        "images=glob('../content/IDC_regular_ps50_idx5/**/*.png',recursive=True)"
      ],
      "execution_count": 0,
      "outputs": []
    },
    {
      "cell_type": "code",
      "metadata": {
        "trusted": true,
        "id": "cBdE4U_XgbEw",
        "colab_type": "code",
        "colab": {}
      },
      "source": [
        "patternZero = '*class0.png'\n",
        "patternOne = '*class1.png'\n",
        "classZero = fnmatch.filter(images, patternZero)\n",
        "classOne = fnmatch.filter(images, patternOne)"
      ],
      "execution_count": 0,
      "outputs": []
    },
    {
      "cell_type": "code",
      "metadata": {
        "trusted": true,
        "id": "kUhkq90XgbE5",
        "colab_type": "code",
        "colab": {}
      },
      "source": [
        "import numpy as np\n",
        "def process_images(lowerIndex,upperIndex):\n",
        "    x = []\n",
        "    y = []\n",
        "    WIDTH = 50\n",
        "    HEIGHT = 50\n",
        "    count = 0\n",
        "    for img in images[lowerIndex:upperIndex]:\n",
        "        full_size_image = cv2.imread(img)\n",
        "        x.append(cv2.resize(full_size_image, (WIDTH,HEIGHT), interpolation=cv2.INTER_CUBIC))\n",
        "        if img in classZero:\n",
        "            y.append(0)\n",
        "        elif img in classOne:\n",
        "            y.append(1)\n",
        "        else:\n",
        "            return\n",
        "        if(count%10000==0):\n",
        "            print(count)\n",
        "        count +=1\n",
        "    return x,y\n",
        "\n",
        "X,Y=process_images(0,150000)\n",
        "\n",
        "#X1=np.array(X)\n",
        "#print(X1.shape)\n",
        "#df = pd.DataFrame()\n",
        "#df[\"images\"]=X\n",
        "#df[\"labels\"]=Y\n",
        "#X2=df[\"images\"]\n",
        "#Y2=df[\"labels\"]\n",
        "#X2=np.array(X2)\n",
        "\n",
        "# Separation of classes of images\n",
        "#imgs0=[]\n",
        "#imgs1=[]\n",
        "#imgs0 = X2[Y2==0]\n",
        "#imgs1 = X2[Y2==1] \n",
        "\n",
        "#print number of elements in eachi class label\n",
        "#print('Total number of images: {}'.format(len(X2)))\n",
        "#print('Number of Class 0 images: {}'.format(np.sum(Y2==0)))\n",
        "#print('Number of class 1 Images: {}'.format(np.sum(Y2==1)))\n",
        "#print('Image shape (Width, Height, Channels): {}'.format(X1[0].shape))\n",
        "\n",
        "X=np.array(X)\n",
        "\n",
        "#Standarizing the data for the model \n",
        "X=X/255.0\n",
        "\n",
        "X_train, X_test, Y_train, Y_test = train_test_split(X, Y, test_size=0.4)"
      ],
      "execution_count": 0,
      "outputs": []
    },
    {
      "cell_type": "code",
      "metadata": {
        "trusted": true,
        "id": "n1zrrm9VgbHS",
        "colab_type": "code",
        "outputId": "4149ecd8-7a48-417e-eb28-12b790066a26",
        "colab": {
          "base_uri": "https://localhost:8080/",
          "height": 34
        }
      },
      "source": [
        "del X\n",
        "import gc\n",
        "y_trainCat=to_categorical(Y_train,num_classes=2)\n",
        "y_testCat=to_categorical(Y_test,num_classes=2)\n",
        "gc.collect()"
      ],
      "execution_count": 8,
      "outputs": [
        {
          "output_type": "execute_result",
          "data": {
            "text/plain": [
              "22"
            ]
          },
          "metadata": {
            "tags": []
          },
          "execution_count": 8
        }
      ]
    },
    {
      "cell_type": "code",
      "metadata": {
        "trusted": true,
        "id": "zmEbIbFRgbHZ",
        "colab_type": "code",
        "colab": {}
      },
      "source": [
        "# Helper Functions  Learning Curves and Confusion Matrix\n",
        "\n",
        "def plotKerasLearningCurve():\n",
        "    plt.figure(figsize=(10,5))\n",
        "    metrics = np.load('logs.npy')[()]\n",
        "    filt = ['acc'] # try to add 'loss' to see the loss learning curve\n",
        "    for k in filter(lambda x : np.any([kk in x for kk in filt]), metrics.keys()):\n",
        "        l = np.array(metrics[k])\n",
        "        plt.plot(l, c= 'r' if 'val' not in k else 'b', label='val' if 'val' in k else 'train')\n",
        "        x = np.argmin(l) if 'loss' in k else np.argmax(l)\n",
        "        y = l[x]\n",
        "        plt.scatter(x,y, lw=0, alpha=0.25, s=100, c='r' if 'val' not in k else 'b')\n",
        "        plt.text(x, y, '{} = {:.4f}'.format(x,y), size='15', color= 'r' if 'val' not in k else 'b')   \n",
        "    plt.legend(loc=4)\n",
        "    plt.axis([0, None, None, None]);\n",
        "    plt.grid()\n",
        "    plt.xlabel('Number of epochs')\n",
        "\n",
        "def plot_confusion_matrix(cm, classes,\n",
        "                          normalize=False,\n",
        "                          title='Confusion matrix',\n",
        "                          cmap=plt.cm.Blues):\n",
        "    \"\"\"\n",
        "    This function prints and plots the confusion matrix.\n",
        "    Normalization can be applied by setting `normalize=True`.\n",
        "    \"\"\"\n",
        "    plt.figure(figsize = (5,5))\n",
        "    plt.imshow(cm, interpolation='nearest', cmap=cmap)\n",
        "    plt.title(title)\n",
        "    plt.colorbar()\n",
        "    tick_marks = np.arange(len(classes))\n",
        "    plt.xticks(tick_marks, classes, rotation=90)\n",
        "    plt.yticks(tick_marks, classes)\n",
        "    if normalize:\n",
        "        cm = cm.astype('float') / cm.sum(axis=1)[:, np.newaxis]\n",
        "\n",
        "    thresh = cm.max() / 2.\n",
        "    for i, j in itertools.product(range(cm.shape[0]), range(cm.shape[1])):\n",
        "        plt.text(j, i, cm[i, j],\n",
        "                 horizontalalignment=\"center\",\n",
        "                 color=\"white\" if cm[i, j] > thresh else \"black\")\n",
        "    plt.tight_layout()\n",
        "    plt.ylabel('True label')\n",
        "    plt.xlabel('Predicted label')\n",
        "\n",
        "def plot_learning_curve(history):\n",
        "    plt.figure(figsize=(8,8))\n",
        "    plt.subplot(1,2,1)\n",
        "    plt.plot(history.history['acc'])\n",
        "    plt.plot(history.history['val_acc'])\n",
        "    plt.title('model accuracy')\n",
        "    plt.ylabel('accuracy')\n",
        "    plt.xlabel('epoch')\n",
        "    plt.legend(['train', 'test'], loc='upper left')\n",
        "    plt.savefig('./accuracy_curve.png')\n",
        "    #plt.clf()\n",
        "    # summarize history for loss\n",
        "    plt.subplot(1,2,2)\n",
        "    plt.plot(history.history['loss'])\n",
        "    plt.plot(history.history['val_loss'])\n",
        "    plt.title('model loss')\n",
        "    plt.ylabel('loss')\n",
        "    plt.xlabel('epoch')\n",
        "    plt.legend(['train', 'test'], loc='upper left')\n",
        "    plt.savefig('./loss_curve.png')"
      ],
      "execution_count": 0,
      "outputs": []
    },
    {
      "cell_type": "code",
      "metadata": {
        "trusted": true,
        "id": "rlhFmXxGgbHj",
        "colab_type": "code",
        "colab": {}
      },
      "source": [
        "datagen = ImageDataGenerator(\n",
        "        featurewise_center=False,  # set input mean to 0 over the dataset\n",
        "        samplewise_center=False,  # set each sample mean to 0\n",
        "        featurewise_std_normalization=False,  # divide inputs by std of the dataset\n",
        "        samplewise_std_normalization=False,  # divide each input by its std\n",
        "        zca_whitening=False,  # apply ZCA whitening\n",
        "        rotation_range=20,  # randomly rotate images in the range (degrees, 0 to 180)\n",
        "        width_shift_range=0.2,  # randomly shift images horizontally (fraction of total width)\n",
        "        height_shift_range=0.2,  # randomly shift images vertically (fraction of total height)\n",
        "        horizontal_flip=True,  # randomly flip images\n",
        "        vertical_flip=True)  # randomly flip images"
      ],
      "execution_count": 0,
      "outputs": []
    },
    {
      "cell_type": "code",
      "metadata": {
        "trusted": true,
        "id": "Xy1rhfiEgbHr",
        "colab_type": "code",
        "colab": {}
      },
      "source": [
        "batch_size = 128\n",
        "num_classes = 2\n",
        "epochs = 10\n",
        "img_rows,img_cols=50,50\n",
        "input_shape = (img_rows, img_cols, 3)\n",
        "e = 2"
      ],
      "execution_count": 0,
      "outputs": []
    },
    {
      "cell_type": "code",
      "metadata": {
        "id": "EGNQ-NJGTZ9c",
        "colab_type": "code",
        "colab": {}
      },
      "source": [
        "from keras.models import Sequential #for neural network models\n",
        "from keras.layers import Dense, Dropout, Flatten, ZeroPadding2D, Conv2D, MaxPooling2D\n",
        "from keras.preprocessing.image import ImageDataGenerator #Data augmentation and preprocessing\n",
        "from keras.utils import to_categorical #For One-hot Encoding\n",
        "from keras.optimizers import Adam, SGD, RMSprop #For Optimizing the Neural Network\n",
        "from keras.callbacks import EarlyStopping\n",
        "model = Sequential()\n",
        "model.add(ZeroPadding2D((1,1),input_shape=(50,50,3)))\n",
        "model.add(Conv2D(64, (3, 3), activation='relu'))\n",
        "model.add(ZeroPadding2D((1,1)))\n",
        "model.add(Conv2D(64, (3, 3), activation='relu'))\n",
        "model.add(MaxPooling2D((2,2), strides=(2,2)))\n",
        "\n",
        "model.add(ZeroPadding2D((1,1)))\n",
        "model.add(Conv2D(128, (3, 3), activation='relu'))\n",
        "model.add(ZeroPadding2D((1,1)))\n",
        "model.add(Conv2D(128, (3, 3), activation='relu'))\n",
        "model.add(MaxPooling2D((2,2), strides=(2,2)))\n",
        "\n",
        "model.add(ZeroPadding2D((1,1)))\n",
        "model.add(Conv2D(256, (3, 3), activation='relu'))\n",
        "model.add(ZeroPadding2D((1,1)))\n",
        "model.add(Conv2D(256, (3, 3), activation='relu'))\n",
        "model.add(ZeroPadding2D((1,1)))\n",
        "model.add(Conv2D(256, (3, 3), activation='relu'))\n",
        "model.add(MaxPooling2D((2,2), strides=(2,2)))\n",
        "\n",
        "model.add(ZeroPadding2D((1,1)))\n",
        "model.add(Conv2D(512, (3, 3), activation='relu'))\n",
        "model.add(ZeroPadding2D((1,1)))\n",
        "model.add(Conv2D(512, (3, 3), activation='relu'))\n",
        "model.add(ZeroPadding2D((1,1)))\n",
        "model.add(Conv2D(512, (3, 3), activation='relu'))\n",
        "model.add(MaxPooling2D((2,2), strides=(2,2)))\n",
        "\n",
        "model.add(ZeroPadding2D((1,1)))\n",
        "model.add(Conv2D(512, (3, 3), activation='relu'))\n",
        "model.add(ZeroPadding2D((1,1)))\n",
        "model.add(Conv2D(512, (3, 3), activation='relu'))\n",
        "model.add(ZeroPadding2D((1,1)))\n",
        "model.add(Conv2D(512, (3, 3), activation='relu'))\n",
        "model.add(MaxPooling2D((2,2), strides=(2,2)))\n",
        "\n",
        "model.add(Flatten())\n",
        "model.add(Dense(4096, activation='relu'))\n",
        "model.add(Dropout(0.5))\n",
        "model.add(Dense(4096, activation='relu'))\n",
        "model.add(Dropout(0.5))\n",
        "model.add(Dense(2, activation='softmax'))\n",
        "#Viewing the summary of the model\n",
        "model.summary()"
      ],
      "execution_count": 0,
      "outputs": []
    },
    {
      "cell_type": "code",
      "metadata": {
        "trusted": true,
        "id": "qGS88w1OgbH6",
        "colab_type": "code",
        "outputId": "2e59b131-9aab-4555-ec95-2db17fd20d2c",
        "colab": {
          "base_uri": "https://localhost:8080/",
          "height": 1000
        }
      },
      "source": [
        "optimizer = Adam(lr = 0.0001)\n",
        "early_stopping_monitor = EarlyStopping(patience = 10, monitor = \"val_accuracy\", mode=\"max\", verbose = 2)\n",
        "model.compile(loss=\"categorical_crossentropy\", metrics=[\"accuracy\"], optimizer=optimizer)\n",
        "history = model.fit_generator(epochs=50, verbose = 1, callbacks=[early_stopping_monitor], shuffle=True, validation_data=(X_test,y_testCat), generator=datagen.flow(X_train,y_trainCat), steps_per_epoch=500, validation_steps=10)\n",
        "prediction = model.predict_generator(generator=datagen.flow(X_train,y_trainCat), verbose=2, steps=100)"
      ],
      "execution_count": 13,
      "outputs": [
        {
          "output_type": "stream",
          "text": [
            "Epoch 1/50\n",
            "500/500 [==============================] - 50s 100ms/step - loss: 0.5271 - accuracy: 0.7616 - val_loss: 0.4177 - val_accuracy: 0.8197\n",
            "Epoch 2/50\n",
            "500/500 [==============================] - 42s 84ms/step - loss: 0.4284 - accuracy: 0.8209 - val_loss: 0.4476 - val_accuracy: 0.7987\n",
            "Epoch 3/50\n",
            "500/500 [==============================] - 44s 89ms/step - loss: 0.4150 - accuracy: 0.8179 - val_loss: 0.4033 - val_accuracy: 0.8242\n",
            "Epoch 4/50\n",
            "500/500 [==============================] - 43s 86ms/step - loss: 0.3968 - accuracy: 0.8276 - val_loss: 0.4202 - val_accuracy: 0.8170\n",
            "Epoch 5/50\n",
            "500/500 [==============================] - 42s 83ms/step - loss: 0.3950 - accuracy: 0.8299 - val_loss: 0.3683 - val_accuracy: 0.8438\n",
            "Epoch 6/50\n",
            "500/500 [==============================] - 42s 83ms/step - loss: 0.3825 - accuracy: 0.8366 - val_loss: 0.3703 - val_accuracy: 0.8435\n",
            "Epoch 7/50\n",
            "500/500 [==============================] - 44s 88ms/step - loss: 0.3736 - accuracy: 0.8406 - val_loss: 0.3586 - val_accuracy: 0.8479\n",
            "Epoch 8/50\n",
            "500/500 [==============================] - 44s 88ms/step - loss: 0.3656 - accuracy: 0.8459 - val_loss: 0.4048 - val_accuracy: 0.8364\n",
            "Epoch 9/50\n",
            "500/500 [==============================] - 44s 87ms/step - loss: 0.3611 - accuracy: 0.8470 - val_loss: 0.3453 - val_accuracy: 0.8569\n",
            "Epoch 10/50\n",
            "500/500 [==============================] - 43s 87ms/step - loss: 0.3556 - accuracy: 0.8494 - val_loss: 0.3372 - val_accuracy: 0.8537\n",
            "Epoch 11/50\n",
            "500/500 [==============================] - 44s 87ms/step - loss: 0.3585 - accuracy: 0.8482 - val_loss: 0.3881 - val_accuracy: 0.8317\n",
            "Epoch 12/50\n",
            "500/500 [==============================] - 44s 88ms/step - loss: 0.3417 - accuracy: 0.8552 - val_loss: 0.3290 - val_accuracy: 0.8609\n",
            "Epoch 13/50\n",
            "500/500 [==============================] - 43s 86ms/step - loss: 0.3344 - accuracy: 0.8567 - val_loss: 0.3258 - val_accuracy: 0.8645\n",
            "Epoch 14/50\n",
            "500/500 [==============================] - 42s 85ms/step - loss: 0.3356 - accuracy: 0.8599 - val_loss: 0.3250 - val_accuracy: 0.8654\n",
            "Epoch 15/50\n",
            "500/500 [==============================] - 43s 86ms/step - loss: 0.3327 - accuracy: 0.8581 - val_loss: 0.3350 - val_accuracy: 0.8577\n",
            "Epoch 16/50\n",
            "500/500 [==============================] - 42s 85ms/step - loss: 0.3324 - accuracy: 0.8624 - val_loss: 0.3723 - val_accuracy: 0.8487\n",
            "Epoch 17/50\n",
            "500/500 [==============================] - 42s 85ms/step - loss: 0.3309 - accuracy: 0.8605 - val_loss: 0.3289 - val_accuracy: 0.8584\n",
            "Epoch 18/50\n",
            "500/500 [==============================] - 42s 85ms/step - loss: 0.3242 - accuracy: 0.8637 - val_loss: 0.3239 - val_accuracy: 0.8641\n",
            "Epoch 19/50\n",
            "500/500 [==============================] - 42s 85ms/step - loss: 0.3255 - accuracy: 0.8640 - val_loss: 0.3098 - val_accuracy: 0.8701\n",
            "Epoch 20/50\n",
            "500/500 [==============================] - 44s 87ms/step - loss: 0.3170 - accuracy: 0.8688 - val_loss: 0.3070 - val_accuracy: 0.8726\n",
            "Epoch 21/50\n",
            "500/500 [==============================] - 43s 86ms/step - loss: 0.3236 - accuracy: 0.8642 - val_loss: 0.3120 - val_accuracy: 0.8679\n",
            "Epoch 22/50\n",
            "500/500 [==============================] - 44s 88ms/step - loss: 0.3115 - accuracy: 0.8713 - val_loss: 0.3226 - val_accuracy: 0.8658\n",
            "Epoch 23/50\n",
            "500/500 [==============================] - 43s 86ms/step - loss: 0.3172 - accuracy: 0.8688 - val_loss: 0.3010 - val_accuracy: 0.8735\n",
            "Epoch 24/50\n",
            "500/500 [==============================] - 43s 86ms/step - loss: 0.3108 - accuracy: 0.8698 - val_loss: 0.3083 - val_accuracy: 0.8730\n",
            "Epoch 25/50\n",
            "500/500 [==============================] - 43s 86ms/step - loss: 0.3106 - accuracy: 0.8716 - val_loss: 0.3128 - val_accuracy: 0.8691\n",
            "Epoch 26/50\n",
            "500/500 [==============================] - 43s 86ms/step - loss: 0.3097 - accuracy: 0.8730 - val_loss: 0.3086 - val_accuracy: 0.8729\n",
            "Epoch 27/50\n",
            "500/500 [==============================] - 43s 86ms/step - loss: 0.3180 - accuracy: 0.8639 - val_loss: 0.2990 - val_accuracy: 0.8745\n",
            "Epoch 28/50\n",
            "500/500 [==============================] - 43s 86ms/step - loss: 0.3112 - accuracy: 0.8684 - val_loss: 0.3035 - val_accuracy: 0.8726\n",
            "Epoch 29/50\n",
            "500/500 [==============================] - 44s 88ms/step - loss: 0.3062 - accuracy: 0.8706 - val_loss: 0.3142 - val_accuracy: 0.8732\n",
            "Epoch 30/50\n",
            "500/500 [==============================] - 43s 87ms/step - loss: 0.3042 - accuracy: 0.8768 - val_loss: 0.2927 - val_accuracy: 0.8793\n",
            "Epoch 31/50\n",
            "500/500 [==============================] - 43s 86ms/step - loss: 0.3104 - accuracy: 0.8731 - val_loss: 0.3152 - val_accuracy: 0.8685\n",
            "Epoch 32/50\n",
            "500/500 [==============================] - 43s 86ms/step - loss: 0.3054 - accuracy: 0.8744 - val_loss: 0.2928 - val_accuracy: 0.8796\n",
            "Epoch 33/50\n",
            "500/500 [==============================] - 43s 86ms/step - loss: 0.3014 - accuracy: 0.8736 - val_loss: 0.2989 - val_accuracy: 0.8797\n",
            "Epoch 34/50\n",
            "500/500 [==============================] - 43s 86ms/step - loss: 0.3048 - accuracy: 0.8720 - val_loss: 0.3141 - val_accuracy: 0.8759\n",
            "Epoch 35/50\n",
            "500/500 [==============================] - 43s 86ms/step - loss: 0.3100 - accuracy: 0.8707 - val_loss: 0.2907 - val_accuracy: 0.8793\n",
            "Epoch 36/50\n",
            "500/500 [==============================] - 43s 86ms/step - loss: 0.2933 - accuracy: 0.8782 - val_loss: 0.2954 - val_accuracy: 0.8745\n",
            "Epoch 37/50\n",
            "500/500 [==============================] - 43s 86ms/step - loss: 0.2902 - accuracy: 0.8791 - val_loss: 0.3032 - val_accuracy: 0.8740\n",
            "Epoch 38/50\n",
            "500/500 [==============================] - 43s 86ms/step - loss: 0.2979 - accuracy: 0.8772 - val_loss: 0.2858 - val_accuracy: 0.8802\n",
            "Epoch 39/50\n",
            "500/500 [==============================] - 43s 86ms/step - loss: 0.3055 - accuracy: 0.8760 - val_loss: 0.2832 - val_accuracy: 0.8822\n",
            "Epoch 40/50\n",
            "500/500 [==============================] - 43s 85ms/step - loss: 0.2889 - accuracy: 0.8812 - val_loss: 0.2881 - val_accuracy: 0.8814\n",
            "Epoch 41/50\n",
            "500/500 [==============================] - 42s 85ms/step - loss: 0.2965 - accuracy: 0.8763 - val_loss: 0.3027 - val_accuracy: 0.8754\n",
            "Epoch 42/50\n",
            "500/500 [==============================] - 42s 84ms/step - loss: 0.3002 - accuracy: 0.8766 - val_loss: 0.2904 - val_accuracy: 0.8787\n",
            "Epoch 43/50\n",
            "500/500 [==============================] - 42s 85ms/step - loss: 0.2876 - accuracy: 0.8808 - val_loss: 0.2955 - val_accuracy: 0.8777\n",
            "Epoch 44/50\n",
            "500/500 [==============================] - 42s 85ms/step - loss: 0.2943 - accuracy: 0.8759 - val_loss: 0.2868 - val_accuracy: 0.8850\n",
            "Epoch 45/50\n",
            "500/500 [==============================] - 40s 81ms/step - loss: 0.2873 - accuracy: 0.8798 - val_loss: 0.2938 - val_accuracy: 0.8752\n",
            "Epoch 46/50\n",
            "500/500 [==============================] - 42s 85ms/step - loss: 0.2959 - accuracy: 0.8741 - val_loss: 0.2874 - val_accuracy: 0.8848\n",
            "Epoch 47/50\n",
            "500/500 [==============================] - 42s 84ms/step - loss: 0.2897 - accuracy: 0.8811 - val_loss: 0.2877 - val_accuracy: 0.8784\n",
            "Epoch 48/50\n",
            "500/500 [==============================] - 42s 85ms/step - loss: 0.2922 - accuracy: 0.8773 - val_loss: 0.2714 - val_accuracy: 0.8860\n",
            "Epoch 49/50\n",
            "500/500 [==============================] - 42s 84ms/step - loss: 0.2864 - accuracy: 0.8840 - val_loss: 0.2759 - val_accuracy: 0.8846\n",
            "Epoch 50/50\n",
            "500/500 [==============================] - 42s 84ms/step - loss: 0.2792 - accuracy: 0.8862 - val_loss: 0.2827 - val_accuracy: 0.8813\n"
          ],
          "name": "stdout"
        }
      ]
    },
    {
      "cell_type": "code",
      "metadata": {
        "id": "iq91d28E7D2-",
        "colab_type": "code",
        "outputId": "22921e79-ff0c-4634-ac1c-80682c18fb5b",
        "colab": {
          "base_uri": "https://localhost:8080/",
          "height": 34
        }
      },
      "source": [
        "import gc\n",
        "gc.collect()"
      ],
      "execution_count": 14,
      "outputs": [
        {
          "output_type": "execute_result",
          "data": {
            "text/plain": [
              "43"
            ]
          },
          "metadata": {
            "tags": []
          },
          "execution_count": 14
        }
      ]
    },
    {
      "cell_type": "code",
      "metadata": {
        "id": "6q6fRJqL7Q0K",
        "colab_type": "code",
        "outputId": "9b93e41a-d0a8-469f-9df3-ddc626aa607e",
        "colab": {
          "base_uri": "https://localhost:8080/",
          "height": 590
        }
      },
      "source": [
        "# list all data in history\n",
        "print(history.history.keys())\n",
        "# summarize history for accuracy\n",
        "plt.plot(history.history['accuracy'])\n",
        "plt.plot(history.history['val_accuracy'])\n",
        "plt.title('model accuracy')\n",
        "plt.ylabel('accuracy')\n",
        "plt.xlabel('epoch')\n",
        "plt.legend(['train', 'test'], loc='upper left')\n",
        "plt.show()\n",
        "# summarize history for loss\n",
        "plt.plot(history.history['loss'])\n",
        "plt.plot(history.history['val_loss'])\n",
        "plt.title('model loss')\n",
        "plt.ylabel('loss')\n",
        "plt.xlabel('epoch')\n",
        "plt.legend(['train', 'test'], loc='upper left')\n",
        "plt.show()"
      ],
      "execution_count": 15,
      "outputs": [
        {
          "output_type": "stream",
          "text": [
            "dict_keys(['val_loss', 'val_accuracy', 'loss', 'accuracy'])\n"
          ],
          "name": "stdout"
        },
        {
          "output_type": "display_data",
          "data": {
            "image/png": "[encoded data removed]",
            "text/plain": [
              "<Figure size 432x288 with 1 Axes>"
            ]
          },
          "metadata": {
            "tags": [],
            "needs_background": "light"
          }
        },
        {
          "output_type": "display_data",
          "data": {
            "image/png": "[encoded data removed]",
            "text/plain": [
              "<Figure size 432x288 with 1 Axes>"
            ]
          },
          "metadata": {
            "tags": [],
            "needs_background": "light"
          }
        }
      ]
    },
    {
      "cell_type": "code",
      "metadata": {
        "id": "HZ5RryzOq9K3",
        "colab_type": "code",
        "outputId": "e0a55077-9e47-4f47-c6ab-255e37a3f67d",
        "colab": {
          "base_uri": "https://localhost:8080/",
          "height": 85
        }
      },
      "source": [
        "test_filenames = glob('/content/13400/1/*.png')\n",
        "import tensorflow as tf\n",
        "from google.colab.patches import cv2\n",
        "#test_filenames.append(glob('/content/12868/1/*.png'))\n",
        "test_samples = []\n",
        "for x in test_filenames:\n",
        "    u = cv2.imread(x)\n",
        "    test_samples.append(cv2.resize(u, (50,50), interpolation=cv2.INTER_CUBIC))\n",
        "test_samples = np.array(test_samples)\n",
        "\n",
        "test_gen = ImageDataGenerator(rescale=1./255)\n",
        "test_generator = test_gen.flow(\n",
        "    test_samples, \n",
        "    batch_size=batch_size,\n",
        "    shuffle=False\n",
        ")\n",
        "predict = model.predict_generator(test_generator)\n",
        "predict = np.argmax(predict, axis=-1)\n",
        "\n",
        "count_tn = 0\n",
        "count_fp = 0\n",
        "count_tp = 0\n",
        "count_fn = 0\n",
        "#for i in predict:\n",
        "#    if(i==0):\n",
        "#        count_tn +=1\n",
        "#    else:\n",
        "#        count_fp +=1\n",
        "#print('TN: ',count_tn)\n",
        "#print('FP: ',count_fp)\n",
        "print(predict)\n",
        "for i in predict:\n",
        "    if(i==1):\n",
        "        count_tp +=1\n",
        "    else:\n",
        "        count_fn +=1\n",
        "print('TP: ',count_tp)\n",
        "print('FN: ',count_fn)\n"
      ],
      "execution_count": 29,
      "outputs": [
        {
          "output_type": "stream",
          "text": [
            "[1 0 0 0 0 1 1 1 1 1 1 0 1 0 1 0 1 1 0 1 1 1 0 0 1 1 1 1 0 1 1 1 1 0 1 1 0\n",
            " 1 1 0 1 1 1 1 1 1 1 1 1 1 1 1 1 1 1 0 0 1 1 1 1 1 1 1]\n",
            "TP:  48\n",
            "FN:  16\n"
          ],
          "name": "stdout"
        }
      ]
    },
    {
      "cell_type": "code",
      "metadata": {
        "trusted": true,
        "id": "8Y4fn2UQgbIa",
        "colab_type": "code",
        "colab": {}
      },
      "source": [
        "# a = X_train\n",
        "# b = y_trainHot\n",
        "# c = X_test\n",
        "# d = y_testHot\n",
        "# epochs = 10\n",
        "y_pred = model.predict(X_test)"
      ],
      "execution_count": 0,
      "outputs": []
    },
    {
      "cell_type": "code",
      "metadata": {
        "trusted": true,
        "id": "wPGq8sAAgbIi",
        "colab_type": "code",
        "colab": {
          "base_uri": "https://localhost:8080/",
          "height": 34
        },
        "outputId": "7545d9b9-c805-4be8-f04d-c780b16d8cf5"
      },
      "source": [
        "Y_pred_classes = np.argmax(y_pred,axis=1) \n",
        "Y_true = np.argmax(y_testCat,axis=1)\n",
        "print(Y_pred_classes)"
      ],
      "execution_count": 62,
      "outputs": [
        {
          "output_type": "stream",
          "text": [
            "[0 1 0 ... 0 0 0]\n"
          ],
          "name": "stdout"
        }
      ]
    },
    {
      "cell_type": "code",
      "metadata": {
        "trusted": true,
        "id": "kpchaoebgbIu",
        "colab_type": "code",
        "colab": {}
      },
      "source": [
        "dict_characters = {0: 'IDC(-)', 1: 'IDC(+)'}"
      ],
      "execution_count": 0,
      "outputs": []
    },
    {
      "cell_type": "code",
      "metadata": {
        "trusted": true,
        "id": "2K4hwe4NgbI5",
        "colab_type": "code",
        "colab": {
          "base_uri": "https://localhost:8080/",
          "height": 621
        },
        "outputId": "75cd13c0-46c2-4ef1-b526-7484a3119a95"
      },
      "source": [
        "confusion_mtx = confusion_matrix(Y_true, Y_pred_classes) \n",
        "plot_confusion_matrix(confusion_mtx, classes = list(dict_characters.values())) \n",
        "plt.show()"
      ],
      "execution_count": 64,
      "outputs": [
        {
          "output_type": "error",
          "ename": "NameError",
          "evalue": "ignored",
          "traceback": [
            "\u001b[0;31m---------------------------------------------------------------------------\u001b[0m",
            "\u001b[0;31mNameError\u001b[0m                                 Traceback (most recent call last)",
            "\u001b[0;32m<ipython-input-64-3252459f8be3>\u001b[0m in \u001b[0;36m<module>\u001b[0;34m()\u001b[0m\n\u001b[1;32m      1\u001b[0m \u001b[0mconfusion_mtx\u001b[0m \u001b[0;34m=\u001b[0m \u001b[0mconfusion_matrix\u001b[0m\u001b[0;34m(\u001b[0m\u001b[0mY_true\u001b[0m\u001b[0;34m,\u001b[0m \u001b[0mY_pred_classes\u001b[0m\u001b[0;34m)\u001b[0m\u001b[0;34m\u001b[0m\u001b[0;34m\u001b[0m\u001b[0m\n\u001b[0;32m----> 2\u001b[0;31m \u001b[0mplot_confusion_matrix\u001b[0m\u001b[0;34m(\u001b[0m\u001b[0mconfusion_mtx\u001b[0m\u001b[0;34m,\u001b[0m \u001b[0mclasses\u001b[0m \u001b[0;34m=\u001b[0m \u001b[0mlist\u001b[0m\u001b[0;34m(\u001b[0m\u001b[0mdict_characters\u001b[0m\u001b[0;34m.\u001b[0m\u001b[0mvalues\u001b[0m\u001b[0;34m(\u001b[0m\u001b[0;34m)\u001b[0m\u001b[0;34m)\u001b[0m\u001b[0;34m)\u001b[0m\u001b[0;34m\u001b[0m\u001b[0;34m\u001b[0m\u001b[0m\n\u001b[0m\u001b[1;32m      3\u001b[0m \u001b[0mplt\u001b[0m\u001b[0;34m.\u001b[0m\u001b[0mshow\u001b[0m\u001b[0;34m(\u001b[0m\u001b[0;34m)\u001b[0m\u001b[0;34m\u001b[0m\u001b[0;34m\u001b[0m\u001b[0m\n",
            "\u001b[0;32m<ipython-input-9-2c5762ea3ca3>\u001b[0m in \u001b[0;36mplot_confusion_matrix\u001b[0;34m(cm, classes, normalize, title, cmap)\u001b[0m\n\u001b[1;32m     36\u001b[0m \u001b[0;34m\u001b[0m\u001b[0m\n\u001b[1;32m     37\u001b[0m     \u001b[0mthresh\u001b[0m \u001b[0;34m=\u001b[0m \u001b[0mcm\u001b[0m\u001b[0;34m.\u001b[0m\u001b[0mmax\u001b[0m\u001b[0;34m(\u001b[0m\u001b[0;34m)\u001b[0m \u001b[0;34m/\u001b[0m \u001b[0;36m2.\u001b[0m\u001b[0;34m\u001b[0m\u001b[0;34m\u001b[0m\u001b[0m\n\u001b[0;32m---> 38\u001b[0;31m     \u001b[0;32mfor\u001b[0m \u001b[0mi\u001b[0m\u001b[0;34m,\u001b[0m \u001b[0mj\u001b[0m \u001b[0;32min\u001b[0m \u001b[0mitertools\u001b[0m\u001b[0;34m.\u001b[0m\u001b[0mproduct\u001b[0m\u001b[0;34m(\u001b[0m\u001b[0mrange\u001b[0m\u001b[0;34m(\u001b[0m\u001b[0mcm\u001b[0m\u001b[0;34m.\u001b[0m\u001b[0mshape\u001b[0m\u001b[0;34m[\u001b[0m\u001b[0;36m0\u001b[0m\u001b[0;34m]\u001b[0m\u001b[0;34m)\u001b[0m\u001b[0;34m,\u001b[0m \u001b[0mrange\u001b[0m\u001b[0;34m(\u001b[0m\u001b[0mcm\u001b[0m\u001b[0;34m.\u001b[0m\u001b[0mshape\u001b[0m\u001b[0;34m[\u001b[0m\u001b[0;36m1\u001b[0m\u001b[0;34m]\u001b[0m\u001b[0;34m)\u001b[0m\u001b[0;34m)\u001b[0m\u001b[0;34m:\u001b[0m\u001b[0;34m\u001b[0m\u001b[0;34m\u001b[0m\u001b[0m\n\u001b[0m\u001b[1;32m     39\u001b[0m         plt.text(j, i, cm[i, j],\n\u001b[1;32m     40\u001b[0m                  \u001b[0mhorizontalalignment\u001b[0m\u001b[0;34m=\u001b[0m\u001b[0;34m\"center\"\u001b[0m\u001b[0;34m,\u001b[0m\u001b[0;34m\u001b[0m\u001b[0;34m\u001b[0m\u001b[0m\n",
            "\u001b[0;31mNameError\u001b[0m: name 'itertools' is not defined"
          ]
        },
        {
          "output_type": "display_data",
          "data": {
            "image/png": "[encoded data removed]",
            "text/plain": [
              "<Figure size 360x360 with 2 Axes>"
            ]
          },
          "metadata": {
            "tags": [],
            "needs_background": "light"
          }
        }
      ]
    }
  ]
}